{
 "cells": [
  {
   "cell_type": "markdown",
   "metadata": {},
   "source": [
    "\n",
    "# 공간 탐색\n",
    "\n",
    "## 객체 \n",
    "\n",
    "## 상태 공간\n",
    "## 상태 결정(결정적 시스템, 확률적 시스템)\n",
    "## 상태 표현(연속값과 이산값, 기호화-연속상태를 이산상태로)\n",
    "\n",
    "## 상태 공간 구성(그래프-정점*성분)\n",
    "\n",
    "## 깊이 우선 탐색, 너비 우선 탐색 \n",
    "\n",
    "## 그래프와 트리 \n",
    "\n",
    "##### 오픈리스트, 클로즈드 리스트, 스택과 큐, \n",
    "### 깊이우선탐색 오프리스트는 스택, 너비우선탐색 오픈리스트는 큐\n",
    "\n",
    "## 로보 어드바이저 \n",
    "## 자연지능과 인공지능 \n",
    "## 프레임, 프레임 문제 "
   ]
  },
  {
   "cell_type": "markdown",
   "metadata": {},
   "source": [
    "### 문제 1"
   ]
  },
  {
   "cell_type": "code",
   "execution_count": 5,
   "metadata": {},
   "outputs": [
    {
     "name": "stdout",
     "output_type": "stream",
     "text": [
      "첫번째 수:50\n",
      "두번째 수:55\n",
      "세번째 수:75\n",
      "평균: 60.0\n"
     ]
    }
   ],
   "source": [
    "num1 = float(input(\"첫번째 수:\"))\n",
    "num2 = float(input(\"두번째 수:\"))\n",
    "num3 = float(input(\"세번째 수:\"))\n",
    "\n",
    "print(\"평균:\", (num1+num2+num3)/3)"
   ]
  },
  {
   "cell_type": "markdown",
   "metadata": {},
   "source": [
    "### 문제 2 "
   ]
  },
  {
   "cell_type": "code",
   "execution_count": 6,
   "metadata": {},
   "outputs": [
    {
     "name": "stdout",
     "output_type": "stream",
     "text": [
      "화씨온도를 입력하세요:100\n",
      "섭씨온도: 37.77777777777778\n"
     ]
    }
   ],
   "source": [
    "f = float(input(\"화씨온도를 입력하세요:\"))\n",
    "print(\"섭씨온도:\", (f-32)*5/9)"
   ]
  },
  {
   "cell_type": "markdown",
   "metadata": {},
   "source": [
    "### 문제 3"
   ]
  },
  {
   "cell_type": "code",
   "execution_count": 8,
   "metadata": {},
   "outputs": [
    {
     "name": "stdout",
     "output_type": "stream",
     "text": [
      "몸무게를 kg단위로 입력하세요:58.3\n",
      "키를 미터단위로 입력하세요:1.7\n",
      "당신의 BMI 수치: 20.173010380622838\n"
     ]
    }
   ],
   "source": [
    "weight = float(input(\"몸무게를 kg단위로 입력하세요:\"))\n",
    "height = float(input(\"키를 미터단위로 입력하세요:\"))\n",
    "\n",
    "print(\"당신의 BMI 수치:\", weight/height**2)"
   ]
  },
  {
   "cell_type": "code",
   "execution_count": null,
   "metadata": {},
   "outputs": [],
   "source": []
  }
 ],
 "metadata": {
  "kernelspec": {
   "display_name": "Python 3",
   "language": "python",
   "name": "python3"
  },
  "language_info": {
   "codemirror_mode": {
    "name": "ipython",
    "version": 3
   },
   "file_extension": ".py",
   "mimetype": "text/x-python",
   "name": "python",
   "nbconvert_exporter": "python",
   "pygments_lexer": "ipython3",
   "version": "3.6.4"
  }
 },
 "nbformat": 4,
 "nbformat_minor": 2
}
